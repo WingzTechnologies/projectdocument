{
  "nbformat": 4,
  "nbformat_minor": 0,
  "metadata": {
    "colab": {
      "provenance": [],
      "authorship_tag": "ABX9TyNiu9vbJ61JS05NHbJzqrR/",
      "include_colab_link": true
    },
    "kernelspec": {
      "name": "python3",
      "display_name": "Python 3"
    },
    "language_info": {
      "name": "python"
    }
  },
  "cells": [
    {
      "cell_type": "markdown",
      "metadata": {
        "id": "view-in-github",
        "colab_type": "text"
      },
      "source": [
        "<a href=\"https://colab.research.google.com/github/WingzTechnologies/projectdocument/blob/main/sample.ipynb\" target=\"_parent\"><img src=\"https://colab.research.google.com/assets/colab-badge.svg\" alt=\"Open In Colab\"/></a>"
      ]
    },
    {
      "cell_type": "code",
      "execution_count": 1,
      "metadata": {
        "colab": {
          "base_uri": "https://localhost:8080/"
        },
        "id": "etrBHh3Kwadf",
        "outputId": "9beabc87-ca3b-4e73-ad62-4baf4c88145f"
      },
      "outputs": [
        {
          "output_type": "stream",
          "name": "stdout",
          "text": [
            "Enter the first number: 5\n",
            "Enter the second number: 6\n",
            "The sum of 5.0 and 6.0 is 11.0\n"
          ]
        }
      ],
      "source": [
        "def add_two_numbers(num1, num2):\n",
        "  \"\"\"Adds two numbers together.\n",
        "\n",
        "  Args:\n",
        "    num1: The first number.\n",
        "    num2: The second number.\n",
        "\n",
        "  Returns:\n",
        "    The sum of the two numbers.\n",
        "  \"\"\"\n",
        "  return num1 + num2\n",
        "\n",
        "# Get input from the user\n",
        "num1 = float(input(\"Enter the first number: \"))\n",
        "num2 = float(input(\"Enter the second number: \"))\n",
        "\n",
        "# Add the two numbers\n",
        "sum = add_two_numbers(num1, num2)\n",
        "\n",
        "# Print the sum\n",
        "print(\"The sum of\", num1, \"and\", num2, \"is\", sum)"
      ]
    },
    {
      "cell_type": "code",
      "source": [
        "import pandas as pd\n",
        "\n",
        "# Replace 'your_file.xlsx' with the actual path to your Excel file\n",
        "df = pd.read_excel('College Dump.xlsx')\n",
        "\n",
        "# Print the first 5 rows of the DataFrame\n",
        "print(df.head())\n",
        "\n",
        "\n",
        "\n",
        "\n",
        "# Define the country codes you want to filter by\n",
        "country_codes = ['Chennai']  # Add your desired country codes\n",
        "\n",
        "# Assuming the country code column is named 'Country Code'\n",
        "filtered_df = df[df['Country'].isin(country_codes)]\n",
        "\n",
        "# You can now work with the filtered DataFrame 'filtered_df'\n",
        "print(filtered_df)\n",
        "\n",
        "# Optionally, save the filtered DataFrame to a new Excel file\n",
        "filtered_df.to_excel('filtered_file.xlsx', index=False) # Replace 'filtered_file.xlsx' with desired filename\n",
        "import matplotlib.pyplot as plt\n",
        "\n",
        "# Assuming your dataset is in a Pandas DataFrame called 'df'\n",
        "# and you want to create a bar chart of the 'column_name' column\n",
        "# Replace 'column_name' with the actual name of your column\n",
        "\n",
        "\n",
        "plt.figure(figsize=(10, 6))  # Adjust figure size if needed\n",
        "plt.bar(df.index, df['Gender'])\n",
        "\n",
        "plt.xlabel('Index')  # Replace with appropriate x-axis label\n",
        "plt.ylabel('TotalWorkingYears')  # Replace with appropriate y-axis label\n",
        "plt.title('Bar Chart of Dataset')\n",
        "plt.xticks(rotation=45, ha='right')  # Rotate x-axis labels if needed\n",
        "plt.tight_layout()\n",
        "plt.show()"
      ],
      "metadata": {
        "colab": {
          "base_uri": "https://localhost:8080/",
          "height": 1000
        },
        "id": "vpnO7NZMxCfc",
        "outputId": "dfab0549-8ae6-4f94-85a2-1efb0fb227c6"
      },
      "execution_count": 11,
      "outputs": [
        {
          "output_type": "stream",
          "name": "stdout",
          "text": [
            "   No First Name Last Name  Gender             HireDate DisabilityStatus  \\\n",
            "0   1     Ghadir    Hamsan    Male  2018-04-04 00:00:00               No   \n",
            "1   2       Omar    Hishan    Male            5/21/2020               No   \n",
            "2   3      Ailya    Sharaf  Female            9/28/2017               No   \n",
            "3   4       Lwiy     Qbany    Male            8/14/2018               No   \n",
            "4   5      Ahmad     Bikri    Male  2020-11-03 00:00:00               No   \n",
            "\n",
            "   TotalWorkingYears  YearsInCurrentRole  YearsSinceLastPromotion  \\\n",
            "0                  6                 4.0                        3   \n",
            "1                  4                 2.0                        1   \n",
            "2                  7                 6.0                        2   \n",
            "3                  6                 4.0                        3   \n",
            "4                  5                 2.0                        1   \n",
            "\n",
            "   WorkLifeBalance  ...    Country Monthly Salary Annual Salary  Job Rating  \\\n",
            "0                1  ...    Chennai          29956        359472           2   \n",
            "1                3  ...  Bangalore          12143        145716           5   \n",
            "2                3  ...  Bangalore          32999        395988           5   \n",
            "3                3  ...     Mumbai          28428        341136           2   \n",
            "4                3  ...    Chennai          22933        275196           4   \n",
            "\n",
            "   Performance Rating  EngagementScore  Satisfaction Survey Score  \\\n",
            "0                   1                5                          3   \n",
            "1                   1                1                          9   \n",
            "2                   3                3                          7   \n",
            "3                   5                3                         10   \n",
            "4                   3                4                         10   \n",
            "\n",
            "   StandardHours  TotalHoursWorked  PercentSalaryHike  \n",
            "0             80                70                  3  \n",
            "1             80                77                  6  \n",
            "2             80                80                  5  \n",
            "3             80                74                 15  \n",
            "4             80                79                  3  \n",
            "\n",
            "[5 rows x 22 columns]\n",
            "        No First Name Last Name  Gender             HireDate DisabilityStatus  \\\n",
            "0        1     Ghadir    Hamsan    Male  2018-04-04 00:00:00               No   \n",
            "4        5      Ahmad     Bikri    Male  2020-11-03 00:00:00               No   \n",
            "7        8    Muhamad     Alaya    Male  2018-10-02 00:00:00               No   \n",
            "8        9      Susin   Almilat  Female  2018-11-03 00:00:00               No   \n",
            "9       10    Muhamad  Alrifaei    Male  2020-03-01 00:00:00               No   \n",
            "...    ...        ...       ...     ...                  ...              ...   \n",
            "4685  4686    Emanuel    George    Male  2021-10-08 00:00:00               No   \n",
            "4686  4687    Giselle  Calderon  Female  2019-02-03 00:00:00               No   \n",
            "4687  4688     Cullen    French  Female  2018-09-30 00:00:00               No   \n",
            "4688  4689    Braiden     Kirby  Female  2021-07-12 00:00:00               No   \n",
            "4689  4690  Johnathan    Harmon  Female  2021-03-04 00:00:00               No   \n",
            "\n",
            "      TotalWorkingYears  YearsInCurrentRole  YearsSinceLastPromotion  \\\n",
            "0                     6                 4.0                        3   \n",
            "4                     5                 2.0                        1   \n",
            "7                     7                 1.0                        0   \n",
            "8                     7                 5.0                        3   \n",
            "9                     5                 3.0                        1   \n",
            "...                 ...                 ...                      ...   \n",
            "4685                 18                 5.0                        1   \n",
            "4686                 15                 2.0                        1   \n",
            "4687                  6                 1.0                        0   \n",
            "4688                  2                 1.0                        0   \n",
            "4689                 13                 6.0                        5   \n",
            "\n",
            "      WorkLifeBalance  ...  Country Monthly Salary Annual Salary  Job Rating  \\\n",
            "0                   1  ...  Chennai          29956        359472           2   \n",
            "4                   3  ...  Chennai          22933        275196           4   \n",
            "7                   3  ...  Chennai          31339        376068           1   \n",
            "8                   3  ...  Chennai          34413        412956           3   \n",
            "9                   2  ...  Chennai          16647        199764           2   \n",
            "...               ...  ...      ...            ...           ...         ...   \n",
            "4685                3  ...  Chennai          59899        718788           2   \n",
            "4686                3  ...  Chennai          45089        541068           4   \n",
            "4687                1  ...  Chennai          31282        375384           5   \n",
            "4688                1  ...  Chennai          13683        164196           4   \n",
            "4689                3  ...  Chennai          42171        506052           1   \n",
            "\n",
            "      Performance Rating  EngagementScore  Satisfaction Survey Score  \\\n",
            "0                      1                5                          3   \n",
            "4                      3                4                         10   \n",
            "7                      5                2                          3   \n",
            "8                      3                2                          7   \n",
            "9                      4                1                          6   \n",
            "...                  ...              ...                        ...   \n",
            "4685                   3                1                          5   \n",
            "4686                   1                2                          7   \n",
            "4687                   1                2                          8   \n",
            "4688                   4                2                          5   \n",
            "4689                   3                4                          3   \n",
            "\n",
            "      StandardHours  TotalHoursWorked  PercentSalaryHike  \n",
            "0                80                70                  3  \n",
            "4                80                79                  3  \n",
            "7                80                55                 14  \n",
            "8                80                71                  6  \n",
            "9                80                58                 13  \n",
            "...             ...               ...                ...  \n",
            "4685             80                40                 13  \n",
            "4686             80                64                  9  \n",
            "4687             80                35                 12  \n",
            "4688             80                69                 13  \n",
            "4689             80                31                  6  \n",
            "\n",
            "[421 rows x 22 columns]\n"
          ]
        },
        {
          "output_type": "display_data",
          "data": {
            "text/plain": [
              "<Figure size 1000x600 with 1 Axes>"
            ],
            "image/png": "[encoded data removed]"
          },
          "metadata": {}
        }
      ]
    }
  ]
}